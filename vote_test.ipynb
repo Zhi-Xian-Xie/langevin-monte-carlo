{
 "cells": [
  {
   "cell_type": "code",
   "execution_count": null,
   "metadata": {},
   "outputs": [],
   "source": [
    "from sampling import unadjusted_langevin_algorithm_gpu, metropolis_adjusted_langevin_algorithm_gpu\n",
    "import numpy as np \n",
    "import torch\n",
    "import matplotlib.pyplot as plt"
   ]
  },
  {
   "cell_type": "code",
   "execution_count": null,
   "metadata": {},
   "outputs": [],
   "source": [
    "def potential_vote(z,epsilon=5,r=2):\n",
    "    z = z.view(-1, 2)\n",
    "    g_1=z[:,1]-z[:,0]\n",
    "    g_2=z[:,1]+z[:,0]\n",
    "    #g_3=2-z[:,1]\n",
    "    S_1=torch.sigmoid(epsilon*g_1)+torch.sigmoid(epsilon*g_2)\n",
    "    V_1=torch.sigmoid(epsilon*(S_1-0.5))\n",
    "    vote_term=torch.sigmoid(epsilon*(V_1-0.5))\n",
    "\n",
    "    norm=torch.norm(z,p=torch.inf,dim=1)\n",
    "    init_term=torch.sigmoid((r-norm)*epsilon)\n",
    "\n",
    "    full_term=vote_term*init_term\n",
    "\n",
    "    return -torch.log(full_term)\n",
    "\n",
    "def potential_vote_2_round(z,epsilon=5,r=2):\n",
    "    z = z.view(-1, 2)\n",
    "    g_1=z[:,1]-z[:,0]\n",
    "    g_2=z[:,1]+z[:,0]\n",
    "    #g_3=2-z[:,1]\n",
    "    S_1=torch.sigmoid(epsilon*g_1)+torch.sigmoid(epsilon*g_2)\n",
    "    V_1=torch.sigmoid(epsilon*(S_1-0.5))\n",
    "\n",
    "    g_3=z[:,0]-1\n",
    "    g_4=-1-z[:,0]\n",
    "    S_2=torch.sigmoid(epsilon*g_3)+torch.sigmoid(epsilon*g_4)\n",
    "    V_2=torch.sigmoid(epsilon*(S_2-0.5))\n",
    "\n",
    "    vote_term=torch.sigmoid(epsilon*(V_1+V_2-1.5))\n",
    "\n",
    "    norm=torch.norm(z,p=torch.inf,dim=1)\n",
    "    init_term=torch.sigmoid((r-norm)*epsilon)\n",
    "\n",
    "    full_term=vote_term*init_term\n",
    "\n",
    "    return -torch.log(full_term)"
   ]
  },
  {
   "cell_type": "code",
   "execution_count": null,
   "metadata": {},
   "outputs": [],
   "source": [
    "def square_bound(theta,r=2):\n",
    "    return r-torch.norm(theta,p=torch.inf,dim=1)\n",
    "\n",
    "def potential_vote_custom(theta,dim=2,init_ineq=lambda x: square_bound(x,r=2), vote_ineq_funcs=[], epsilon=5, rationality=0.5):\n",
    "    theta=theta.view(-1, dim)\n",
    "    vote_round_num=len(vote_ineq_funcs)\n",
    "\n",
    "    init_term=torch.sigmoid(epsilon*init_ineq(theta))\n",
    "\n",
    "    V=0\n",
    "    vote_term=1\n",
    "    for func in vote_ineq_funcs:\n",
    "        ineqs=func(theta)\n",
    "        num_vote=ineqs.shape[1]\n",
    "        #print(num_vote)\n",
    "        S=torch.sigmoid(epsilon*ineqs).sum(axis=1)\n",
    "        V+=torch.sigmoid(epsilon*(S-num_vote*rationality+0.5))\n",
    "    vote_term*=torch.sigmoid(epsilon*(V-vote_round_num + 0.5))\n",
    "\n",
    "    full_term=vote_term*init_term\n",
    "\n",
    "    return -torch.log(full_term)\n",
    "\n",
    "def test_g1(z):\n",
    "    z = z.view(-1, 2)\n",
    "    return z[:,1]-z[:,0]\n",
    "\n",
    "def test_g2(z):\n",
    "    z = z.view(-1, 2)\n",
    "    return z[:,1]+z[:,0]\n",
    "\n",
    "def test_g3(z):\n",
    "    z = z.view(-1, 2)\n",
    "    return z[:,0]-1\n",
    "\n",
    "def test_g4(z):\n",
    "    z = z.view(-1, 2)\n",
    "    return -1-z[:,0]\n"
   ]
  },
  {
   "cell_type": "code",
   "execution_count": null,
   "metadata": {},
   "outputs": [],
   "source": [
    "samples_gpu_vote = unadjusted_langevin_algorithm_gpu(lambda z: potential_vote(z,5,2),n_samples=100000,step=0.001,iters=20000)\n",
    "samples_adj_gpu_vote = metropolis_adjusted_langevin_algorithm_gpu(lambda z: potential_vote(z,5,2),n_samples=100000,step=0.01,iters=1000)"
   ]
  },
  {
   "cell_type": "code",
   "execution_count": null,
   "metadata": {},
   "outputs": [],
   "source": [
    "theta=torch.rand((1000,2))\n",
    "test_g1(theta).view(-1,1).shape"
   ]
  },
  {
   "cell_type": "code",
   "execution_count": null,
   "metadata": {},
   "outputs": [],
   "source": [
    "def gen_ineqs_1(theta):\n",
    "    return torch.concat([test_g1(theta).view(-1,1),test_g2(theta).view(-1,1)],axis=1)\n",
    "\n",
    "def gen_ineqs_2(theta):\n",
    "    return torch.concat([test_g3(theta).view(-1,1),test_g4(theta).view(-1,1)],axis=1)\n",
    "\n",
    "potential_func_custom = lambda theta: potential_vote_custom(theta,dim=2,vote_ineq_funcs=[gen_ineqs_1,gen_ineqs_2])\n",
    "samples_adj_gpu_vote_custom=metropolis_adjusted_langevin_algorithm_gpu(potential_func_custom\n",
    "                                                                       ,n_samples=100000,step=0.01,iters=1000)"
   ]
  },
  {
   "cell_type": "code",
   "execution_count": null,
   "metadata": {},
   "outputs": [],
   "source": [
    "plt.hist2d(samples_adj_gpu_vote_custom[:,0], samples_adj_gpu_vote_custom[:,1], cmap='viridis', rasterized=False, bins=200, density=True)\n",
    "plt.gca().set_aspect('equal', adjustable='box')\n",
    "plt.xlim([-3.5, 3.5])\n",
    "plt.ylim([-3.5, 3.5])\n",
    "plt.title('Empirical Density Square GPU')\n",
    "plt.show()"
   ]
  },
  {
   "cell_type": "code",
   "execution_count": null,
   "metadata": {},
   "outputs": [],
   "source": [
    "plt.hist2d(samples_gpu_vote[:,0], samples_gpu_vote[:,1], cmap='viridis', rasterized=False, bins=200, density=True)\n",
    "plt.gca().set_aspect('equal', adjustable='box')\n",
    "plt.xlim([-3.5, 3.5])\n",
    "plt.ylim([-3.5, 3.5])\n",
    "plt.title('Empirical Density Square GPU')\n",
    "plt.show()"
   ]
  },
  {
   "cell_type": "code",
   "execution_count": null,
   "metadata": {},
   "outputs": [],
   "source": [
    "plt.hist2d(samples_adj_gpu_vote[:,0], samples_adj_gpu_vote[:,1], cmap='viridis', rasterized=False, bins=200, density=True)\n",
    "plt.gca().set_aspect('equal', adjustable='box')\n",
    "plt.xlim([-3.5, 3.5])\n",
    "plt.ylim([-3.5, 3.5])\n",
    "plt.title('Empirical Density Square GPU')\n",
    "plt.show()"
   ]
  },
  {
   "cell_type": "code",
   "execution_count": null,
   "metadata": {},
   "outputs": [],
   "source": [
    "samples_gpu_vote = unadjusted_langevin_algorithm_gpu(lambda z: potential_vote_2_round(z,5,2),n_samples=100000,step=0.001,iters=20000)\n",
    "samples_adj_gpu_vote = metropolis_adjusted_langevin_algorithm_gpu(lambda z: potential_vote_2_round(z,5,2),n_samples=100000,step=0.01,iters=1000)"
   ]
  },
  {
   "cell_type": "code",
   "execution_count": null,
   "metadata": {},
   "outputs": [],
   "source": [
    "plt.hist2d(samples_gpu_vote[:,0], samples_gpu_vote[:,1], cmap='viridis', rasterized=False, bins=200, density=True)\n",
    "plt.gca().set_aspect('equal', adjustable='box')\n",
    "plt.xlim([-3.5, 3.5])\n",
    "plt.ylim([-3.5, 3.5])\n",
    "plt.title('Empirical Density Square GPU')\n",
    "plt.show()"
   ]
  },
  {
   "cell_type": "code",
   "execution_count": null,
   "metadata": {},
   "outputs": [],
   "source": [
    "plt.hist2d(samples_adj_gpu_vote[:,0], samples_adj_gpu_vote[:,1], cmap='viridis', rasterized=False, bins=200, density=True)\n",
    "plt.gca().set_aspect('equal', adjustable='box')\n",
    "plt.xlim([-3.5, 3.5])\n",
    "plt.ylim([-3.5, 3.5])\n",
    "plt.title('Empirical Density Square GPU')\n",
    "plt.show()"
   ]
  }
 ],
 "metadata": {
  "kernelspec": {
   "display_name": "torch_env",
   "language": "python",
   "name": "python3"
  },
  "language_info": {
   "codemirror_mode": {
    "name": "ipython",
    "version": 3
   },
   "file_extension": ".py",
   "mimetype": "text/x-python",
   "name": "python",
   "nbconvert_exporter": "python",
   "pygments_lexer": "ipython3",
   "version": "3.11.9"
  }
 },
 "nbformat": 4,
 "nbformat_minor": 2
}
