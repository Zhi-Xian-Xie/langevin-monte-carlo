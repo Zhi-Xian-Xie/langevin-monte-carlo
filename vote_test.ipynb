{
 "cells": [
  {
   "cell_type": "code",
   "execution_count": null,
   "metadata": {},
   "outputs": [],
   "source": [
    "from sampling import unadjusted_langevin_algorithm_gpu\n",
    "import numpy as np \n",
    "import torch\n",
    "import matplotlib.pyplot as plt"
   ]
  },
  {
   "cell_type": "code",
   "execution_count": null,
   "metadata": {},
   "outputs": [],
   "source": [
    "def vote_potential(z,epsilon=5,r=2):\n",
    "    g_1=z[:,1]-z[:,0]\n",
    "    g_2=z[:,1]+z[:,0]\n",
    "    S_1=torch.sigmoid(epsilon*g_1)+torch.sigmoid(epsilon*g_2)\n",
    "    V_1=torch.sigmoid(epsilon*(S_1-1))\n",
    "    vote_term=torch.sigmoid(V_1-0.5)\n",
    "\n",
    "    norm=torch.norm(z,p=2,dim=1)\n",
    "    init_term=torch.sigmoid((r-norm)*epsilon)\n",
    "\n",
    "    full_term=torch.sigmoid(vote_term+init_term-0.5)\n",
    "\n",
    "    return -torch.log(full_term)"
   ]
  }
 ],
 "metadata": {
  "kernelspec": {
   "display_name": "torch_env",
   "language": "python",
   "name": "python3"
  },
  "language_info": {
   "name": "python",
   "version": "3.1.-1"
  }
 },
 "nbformat": 4,
 "nbformat_minor": 2
}
